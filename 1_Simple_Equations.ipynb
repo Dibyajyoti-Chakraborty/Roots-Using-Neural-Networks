{
 "cells": [
  {
   "cell_type": "code",
   "execution_count": 4,
   "id": "14986da2",
   "metadata": {},
   "outputs": [
    {
     "name": "stdout",
     "output_type": "stream",
     "text": [
      "cuda\n"
     ]
    }
   ],
   "source": [
    "import torch\n",
    "from torch import Tensor                  \n",
    "import torch.nn as nn                     \n",
    "\n",
    "import matplotlib.pyplot as plt\n",
    "\n",
    "import numpy as np\n",
    "import time\n",
    "\n",
    "torch.set_default_tensor_type(torch.DoubleTensor)\n",
    "\n",
    "device = torch.device('cuda' if torch.cuda.is_available() else 'cpu')\n",
    "from tqdm import tqdm\n",
    "print(device) "
   ]
  },
  {
   "cell_type": "code",
   "execution_count": 21,
   "id": "83c75b61",
   "metadata": {},
   "outputs": [],
   "source": [
    "class NNR(nn.Module):\n",
    "    \n",
    "    def __init__(self,layers):\n",
    "        super().__init__() \n",
    "              \n",
    "        self.activation = nn.Tanh()\n",
    "        self.loss_function = nn.MSELoss(reduction ='mean')\n",
    "        self.linears = nn.ModuleList([nn.Linear(layers[i], layers[i+1]) for i in range(len(layers)-1)]).to(device)\n",
    "        \n",
    "        for i in range(len(layers)-1):\n",
    "            nn.init.xavier_normal_(self.linears[i].weight.data, gain=1.0)\n",
    "            nn.init.zeros_(self.linears[i].bias.data)\n",
    "            \n",
    "    def forward(self,x):\n",
    "            if torch.is_tensor(x) !=True:\n",
    "                x= torch.from_numpy(x).to(device)\n",
    "            sigma = x.type(torch.DoubleTensor).to(device)\n",
    "            for i in range(len(layers)-2):\n",
    "                z = self.linears[i](sigma)\n",
    "                sigma = self.activation(z)\n",
    "            sigma = self.linears[-1](sigma)\n",
    "            return sigma\n",
    "    \n",
    "    #Modify the loss function as per the problem\n",
    "    def loss_func(self, x_train):                     \n",
    "        g = x_train.clone()\n",
    "                        \n",
    "        g.requires_grad = True\n",
    "        \n",
    "        u = self.forward(g)\n",
    "        loss_f = self.loss_function(eqn(u,x_train),torch.tensor(0).type(torch.DoubleTensor).to(device))   \n",
    "        return loss_f\n",
    "                                           \n",
    "    def closure(self,steps,eps=1e-8,lr=1e-2,show=True):\n",
    "            start = time.time()\n",
    "            optimizer = torch.optim.Adam(self.parameters(),lr=lr)\n",
    "            for i in tqdm(range(steps)):\n",
    "                loss = self.loss_func(x_train)\n",
    "                self.mse = loss\n",
    "                optimizer.zero_grad()\n",
    "                loss.backward()\n",
    "                optimizer.step()\n",
    "                #Learning rate scheduling. It performs better using this even for Adam.\n",
    "                if i%(steps/4)==0:\n",
    "                    lr=lr/5\n",
    "                    optimizer = torch.optim.Adam(self.parameters(),lr=lr)\n",
    "                    if show==True:\n",
    "                        with torch.no_grad():\n",
    "                            print('Iter: ',i,'Loss: ',loss.detach().cpu().numpy(),' lr: ',lr)\n",
    "                if self.mse<=eps:\n",
    "                    print('Converged !')\n",
    "                    break\n",
    "            print('MSE Loss: ',float(self.mse.detach().cpu()))\n",
    "            print('total time: ',time.time()-start)"
   ]
  },
  {
   "cell_type": "markdown",
   "id": "1d957a92",
   "metadata": {},
   "source": [
    "# Roots of Polynomials"
   ]
  },
  {
   "cell_type": "code",
   "execution_count": 12,
   "id": "44f5c531",
   "metadata": {},
   "outputs": [],
   "source": [
    "def eqn(u,x_train):\n",
    "    n=2\n",
    "    pol=torch.pow(u,n)\n",
    "    for i in range(n):\n",
    "        pol=pol+x_train[:,[i]]*torch.pow(u,n-i-1)\n",
    "    return pol"
   ]
  },
  {
   "cell_type": "markdown",
   "id": "4ac9fc2e",
   "metadata": {},
   "source": [
    "# Quadratic"
   ]
  },
  {
   "cell_type": "code",
   "execution_count": 13,
   "id": "898cf700",
   "metadata": {},
   "outputs": [
    {
     "data": {
      "text/plain": [
       "torch.Size([10000, 2])"
      ]
     },
     "execution_count": 13,
     "metadata": {},
     "output_type": "execute_result"
    }
   ],
   "source": [
    "# Make input data\n",
    "b = np.linspace(0,10,100)\n",
    "c = np.linspace(-5,0,100)\n",
    "B,C = np.meshgrid(b,c)\n",
    "x_train = torch.from_numpy(np.hstack(( B.flatten()[:,None],C.flatten()[:,None]))).to(device)\n",
    "x_train.shape"
   ]
  },
  {
   "cell_type": "code",
   "execution_count": 14,
   "id": "e600ba4a",
   "metadata": {},
   "outputs": [
    {
     "name": "stderr",
     "output_type": "stream",
     "text": [
      "  0%|                                                  | 0/5000 [00:00<?, ?it/s]/home/djc/anaconda3/lib/python3.9/site-packages/torch/nn/modules/loss.py:530: UserWarning: Using a target size (torch.Size([])) that is different to the input size (torch.Size([10000, 1])). This will likely lead to incorrect results due to broadcasting. Please ensure they have the same size.\n",
      "  return F.mse_loss(input, target, reduction=self.reduction)\n",
      "  1%|▎                                       | 32/5000 [00:00<00:31, 156.76it/s]"
     ]
    },
    {
     "name": "stdout",
     "output_type": "stream",
     "text": [
      "Iter:  0 Loss:  28.7037512120739  lr:  0.002\n"
     ]
    },
    {
     "name": "stderr",
     "output_type": "stream",
     "text": [
      " 25%|█████████▋                            | 1273/5000 [00:07<00:22, 165.68it/s]"
     ]
    },
    {
     "name": "stdout",
     "output_type": "stream",
     "text": [
      "Iter:  1250 Loss:  0.0007803828584463848  lr:  0.0004\n"
     ]
    },
    {
     "name": "stderr",
     "output_type": "stream",
     "text": [
      " 51%|███████████████████▎                  | 2534/5000 [00:15<00:14, 165.84it/s]"
     ]
    },
    {
     "name": "stdout",
     "output_type": "stream",
     "text": [
      "Iter:  2500 Loss:  0.00022263017886484235  lr:  8e-05\n"
     ]
    },
    {
     "name": "stderr",
     "output_type": "stream",
     "text": [
      " 76%|████████████████████████████▊         | 3784/5000 [00:22<00:06, 186.20it/s]"
     ]
    },
    {
     "name": "stdout",
     "output_type": "stream",
     "text": [
      "Iter:  3750 Loss:  0.0001253972708585716  lr:  1.6000000000000003e-05\n"
     ]
    },
    {
     "name": "stderr",
     "output_type": "stream",
     "text": [
      "100%|██████████████████████████████████████| 5000/5000 [00:29<00:00, 167.84it/s]"
     ]
    },
    {
     "name": "stdout",
     "output_type": "stream",
     "text": [
      "MSE Loss:  8.767221268003662e-05\n",
      "total time:  29.792914628982544\n"
     ]
    },
    {
     "name": "stderr",
     "output_type": "stream",
     "text": [
      "\n"
     ]
    }
   ],
   "source": [
    "steps=5000\n",
    "layers = np.array([2,20,20,20,20,20,20,1])\n",
    "Root_NN2 = NNR(layers)\n",
    "Root_NN2.to(device)\n",
    "Root_NN2.closure(steps=steps,show=True)"
   ]
  },
  {
   "cell_type": "code",
   "execution_count": 16,
   "id": "14fdd54d",
   "metadata": {},
   "outputs": [
    {
     "name": "stdout",
     "output_type": "stream",
     "text": [
      "tensor([[0.9985]], device='cuda:0', grad_fn=<AddmmBackward0>)\n"
     ]
    }
   ],
   "source": [
    "test=np.array([1,-2])[None,:]\n",
    "print(Root_NN2(test))"
   ]
  },
  {
   "cell_type": "code",
   "execution_count": 15,
   "id": "fc493cdf",
   "metadata": {},
   "outputs": [],
   "source": [
    "def roots(b,c):\n",
    "    y1=(-b+np.sqrt(b*b-4*c))/2\n",
    "    y2=(-b-np.sqrt(b*b-4*c))/2\n",
    "    return [y1,y2]"
   ]
  },
  {
   "cell_type": "code",
   "execution_count": 16,
   "id": "e14d1618",
   "metadata": {},
   "outputs": [],
   "source": [
    "b_test = np.linspace(1,6,6)\n",
    "c_test = np.linspace(-4,-1,4)\n",
    "B,C = np.meshgrid(b_test,c_test)\n",
    "x_test = torch.from_numpy(np.hstack(( B.flatten()[:,None],C.flatten()[:,None]))).to(device)"
   ]
  },
  {
   "cell_type": "code",
   "execution_count": 27,
   "id": "42219f2f",
   "metadata": {},
   "outputs": [
    {
     "data": {
      "text/plain": [
       "[[1.5615528128088303, -2.5615528128088303],\n",
       " [1.2360679774997898, -3.23606797749979],\n",
       " [1.0, -4.0],\n",
       " [0.8284271247461903, -4.82842712474619],\n",
       " [0.7015621187164243, -5.701562118716424],\n",
       " [0.6055512754639891, -6.60555127546399],\n",
       " [1.3027756377319946, -2.302775637731995],\n",
       " [1.0, -3.0],\n",
       " [0.7912878474779199, -3.79128784747792],\n",
       " [0.6457513110645907, -4.645751311064591],\n",
       " [0.5413812651491097, -5.541381265149109],\n",
       " [0.4641016151377544, -6.464101615137754],\n",
       " [1.0, -2.0],\n",
       " [0.7320508075688772, -2.732050807568877],\n",
       " [0.5615528128088303, -3.5615528128088303],\n",
       " [0.4494897427831779, -4.449489742783178],\n",
       " [0.3722813232690143, -5.372281323269014],\n",
       " [0.3166247903553998, -6.3166247903554],\n",
       " [0.6180339887498949, -1.618033988749895],\n",
       " [0.41421356237309515, -2.414213562373095],\n",
       " [0.30277563773199456, -3.302775637731995],\n",
       " [0.2360679774997898, -4.23606797749979],\n",
       " [0.19258240356725187, -5.192582403567252],\n",
       " [0.16227766016837952, -6.16227766016838]]"
      ]
     },
     "execution_count": 27,
     "metadata": {},
     "output_type": "execute_result"
    }
   ],
   "source": [
    "y_test=Root_NN2(x_test).detach().cpu().numpy()\n",
    "r = []\n",
    "for i in range(len(x_test)):\n",
    "    r.append(roots(x_test[i][0].detach().cpu().numpy(),x_test[i][1].detach().cpu().numpy()))\n",
    "r"
   ]
  },
  {
   "cell_type": "code",
   "execution_count": 28,
   "id": "d42a4015",
   "metadata": {},
   "outputs": [
    {
     "data": {
      "text/plain": [
       "array([[1.56071533],\n",
       "       [1.23653367],\n",
       "       [0.99937612],\n",
       "       [0.8277143 ],\n",
       "       [0.70147704],\n",
       "       [0.60648932],\n",
       "       [1.30040095],\n",
       "       [1.00081443],\n",
       "       [0.78999625],\n",
       "       [0.64562202],\n",
       "       [0.54239672],\n",
       "       [0.46404594],\n",
       "       [1.00314632],\n",
       "       [0.73346697],\n",
       "       [0.56053545],\n",
       "       [0.44942637],\n",
       "       [0.37165446],\n",
       "       [0.31601662],\n",
       "       [0.61711061],\n",
       "       [0.41211162],\n",
       "       [0.30429733],\n",
       "       [0.23738375],\n",
       "       [0.19328428],\n",
       "       [0.1626472 ]])"
      ]
     },
     "execution_count": 28,
     "metadata": {},
     "output_type": "execute_result"
    }
   ],
   "source": [
    "y_test"
   ]
  },
  {
   "cell_type": "markdown",
   "id": "72fdc23d",
   "metadata": {},
   "source": [
    "# Qintic"
   ]
  },
  {
   "cell_type": "code",
   "execution_count": 7,
   "id": "bc649399",
   "metadata": {},
   "outputs": [],
   "source": [
    "def eqn(u,x_train):\n",
    "    n=5\n",
    "    pol=torch.pow(u,n)\n",
    "    for i in range(n):\n",
    "        pol=pol+x_train[:,[i]]*torch.pow(u,n-i-1)\n",
    "    return pol"
   ]
  },
  {
   "cell_type": "code",
   "execution_count": 12,
   "id": "3553d946",
   "metadata": {},
   "outputs": [
    {
     "data": {
      "text/plain": [
       "torch.Size([3200000, 5])"
      ]
     },
     "execution_count": 12,
     "metadata": {},
     "output_type": "execute_result"
    }
   ],
   "source": [
    "b = np.linspace(0,1,20)\n",
    "c = np.linspace(0,1,20)\n",
    "d = np.linspace(0,1,20)\n",
    "e = np.linspace(0,1,20)\n",
    "f = np.linspace(0,1,20)\n",
    "\n",
    "B,C,D,E,F = np.meshgrid(b,c,d,e,f)\n",
    "x_train = torch.from_numpy(np.hstack(( B.flatten()[:,None],C.flatten()[:,None],\n",
    "                                      D.flatten()[:,None],E.flatten()[:,None],F.flatten()[:,None]))).to(device)\n",
    "x_train.shape"
   ]
  },
  {
   "cell_type": "code",
   "execution_count": 13,
   "id": "4131b1ff",
   "metadata": {},
   "outputs": [
    {
     "name": "stderr",
     "output_type": "stream",
     "text": [
      "  0%|                                                  | 0/5000 [00:00<?, ?it/s]/home/djc/anaconda3/lib/python3.9/site-packages/torch/nn/modules/loss.py:530: UserWarning: Using a target size (torch.Size([])) that is different to the input size (torch.Size([3200000, 1])). This will likely lead to incorrect results due to broadcasting. Please ensure they have the same size.\n",
      "  return F.mse_loss(input, target, reduction=self.reduction)\n",
      "  0%|                                          | 1/5000 [00:00<34:44,  2.40it/s]"
     ]
    },
    {
     "name": "stdout",
     "output_type": "stream",
     "text": [
      "Iter:  0 Loss:  0.3832866064595788  lr:  0.002\n"
     ]
    },
    {
     "name": "stderr",
     "output_type": "stream",
     "text": [
      " 25%|█████████▊                             | 1251/5000 [07:44<23:10,  2.70it/s]"
     ]
    },
    {
     "name": "stdout",
     "output_type": "stream",
     "text": [
      "Iter:  1250 Loss:  0.0010456006389888508  lr:  0.0004\n"
     ]
    },
    {
     "name": "stderr",
     "output_type": "stream",
     "text": [
      " 50%|███████████████████▌                   | 2501/5000 [15:27<15:26,  2.70it/s]"
     ]
    },
    {
     "name": "stdout",
     "output_type": "stream",
     "text": [
      "Iter:  2500 Loss:  0.00040494094281800483  lr:  8e-05\n"
     ]
    },
    {
     "name": "stderr",
     "output_type": "stream",
     "text": [
      " 75%|█████████████████████████████▎         | 3751/5000 [23:13<07:47,  2.67it/s]"
     ]
    },
    {
     "name": "stdout",
     "output_type": "stream",
     "text": [
      "Iter:  3750 Loss:  0.00025406713089186773  lr:  1.6000000000000003e-05\n"
     ]
    },
    {
     "name": "stderr",
     "output_type": "stream",
     "text": [
      "100%|███████████████████████████████████████| 5000/5000 [31:00<00:00,  2.69it/s]"
     ]
    },
    {
     "name": "stdout",
     "output_type": "stream",
     "text": [
      "MSE Loss:  0.0002025833228648703\n",
      "total time:  1860.3010640144348\n"
     ]
    },
    {
     "name": "stderr",
     "output_type": "stream",
     "text": [
      "\n"
     ]
    }
   ],
   "source": [
    "steps=5000\n",
    "layers = np.array([5,20,20,20,20,20,20,1])\n",
    "Root_NN = NNR(layers)\n",
    "Root_NN.to(device)\n",
    "Root_NN.closure(steps=steps,show=True)"
   ]
  },
  {
   "cell_type": "code",
   "execution_count": 14,
   "id": "183e2284",
   "metadata": {},
   "outputs": [
    {
     "name": "stdout",
     "output_type": "stream",
     "text": [
      "tensor([[-0.8233]], device='cuda:0', grad_fn=<AddmmBackward0>)\n"
     ]
    }
   ],
   "source": [
    "test=np.array([0.5,0.5,0.5,0.5,0.5])[None,:]\n",
    "print(Root_NN(test))"
   ]
  },
  {
   "cell_type": "code",
   "execution_count": 32,
   "id": "e932ccdc",
   "metadata": {},
   "outputs": [
    {
     "data": {
      "text/plain": [
       "torch.Size([3125, 5])"
      ]
     },
     "execution_count": 32,
     "metadata": {},
     "output_type": "execute_result"
    }
   ],
   "source": [
    "b_test = np.linspace(0.1,0.8,5)\n",
    "c_test = np.linspace(0.1,0.8,5)\n",
    "d_test = np.linspace(0.1,0.8,5)\n",
    "e_test = np.linspace(0.1,0.8,5)\n",
    "f_test = np.linspace(0.1,0.8,5)\n",
    "\n",
    "B_test,C_test,D_test,E_test,F_test = np.meshgrid(b_test,c_test,d_test,e_test,f_test)\n",
    "x_test = torch.from_numpy(np.hstack(( B_test.flatten()[:,None],C_test.flatten()[:,None],\n",
    "                                      D_test.flatten()[:,None],E_test.flatten()[:,None],\n",
    "                                      F_test.flatten()[:,None]))).to(device)\n",
    "x_test.shape"
   ]
  },
  {
   "cell_type": "code",
   "execution_count": 40,
   "id": "96c1fcc4",
   "metadata": {},
   "outputs": [
    {
     "name": "stdout",
     "output_type": "stream",
     "text": [
      "tensor([[0.4500, 0.2750, 0.1000, 0.6250, 0.4500],\n",
      "        [0.2750, 0.1000, 0.6250, 0.4500, 0.2750],\n",
      "        [0.4500, 0.2750, 0.4500, 0.2750, 0.8000],\n",
      "        [0.8000, 0.6250, 0.6250, 0.4500, 0.2750],\n",
      "        [0.4500, 0.4500, 0.2750, 0.6250, 0.6250],\n",
      "        [0.2750, 0.4500, 0.1000, 0.6250, 0.6250]], device='cuda:0')\n"
     ]
    }
   ],
   "source": [
    "test = x_test[np.random.randint(3125,size=6),:]\n",
    "print(test)"
   ]
  },
  {
   "cell_type": "code",
   "execution_count": 50,
   "id": "58335b88",
   "metadata": {},
   "outputs": [
    {
     "name": "stdout",
     "output_type": "stream",
     "text": [
      "-0.628680\n",
      "-0.837760\n",
      "-1.040247\n",
      "-0.793006\n",
      "-0.765022\n",
      "-0.690475\n"
     ]
    }
   ],
   "source": [
    "for i in range(6):\n",
    "    print(\"%1.6f\"%Root_NN(test).detach().cpu().numpy()[i])"
   ]
  },
  {
   "cell_type": "markdown",
   "id": "42e38bef",
   "metadata": {},
   "source": [
    "# Roots of Trancendental Equation:\n",
    "$$x\\sin(x)=b$$"
   ]
  },
  {
   "cell_type": "code",
   "execution_count": 7,
   "id": "b35f9880",
   "metadata": {},
   "outputs": [],
   "source": [
    "def eqn(u,x_train):\n",
    "    b=x_train[:,[0]]\n",
    "    return u*torch.sin(u)-b"
   ]
  },
  {
   "cell_type": "code",
   "execution_count": 8,
   "id": "c3da7b2e",
   "metadata": {},
   "outputs": [
    {
     "data": {
      "text/plain": [
       "torch.Size([10000, 1])"
      ]
     },
     "execution_count": 8,
     "metadata": {},
     "output_type": "execute_result"
    }
   ],
   "source": [
    "# Make input data\n",
    "x_train = torch.linspace(1,3,10000)[:,None].to(device)\n",
    "x_train.shape"
   ]
  },
  {
   "cell_type": "code",
   "execution_count": 11,
   "id": "360072e1",
   "metadata": {},
   "outputs": [
    {
     "name": "stderr",
     "output_type": "stream",
     "text": [
      "  0%|▏                                      | 44/10000 [00:00<00:45, 220.31it/s]"
     ]
    },
    {
     "name": "stdout",
     "output_type": "stream",
     "text": [
      "Iter:  0 Loss:  4.330035768668751  lr:  0.02\n"
     ]
    },
    {
     "name": "stderr",
     "output_type": "stream",
     "text": [
      " 25%|█████████▍                           | 2538/10000 [00:10<00:32, 230.43it/s]"
     ]
    },
    {
     "name": "stdout",
     "output_type": "stream",
     "text": [
      "Iter:  2500 Loss:  0.012518923408487617  lr:  0.004\n"
     ]
    },
    {
     "name": "stderr",
     "output_type": "stream",
     "text": [
      " 50%|██████████████████▌                  | 5033/10000 [00:21<00:21, 230.06it/s]"
     ]
    },
    {
     "name": "stdout",
     "output_type": "stream",
     "text": [
      "Iter:  5000 Loss:  7.499352665872822e-07  lr:  0.0008\n"
     ]
    },
    {
     "name": "stderr",
     "output_type": "stream",
     "text": [
      " 75%|███████████████████████████▊         | 7526/10000 [00:32<00:10, 229.79it/s]"
     ]
    },
    {
     "name": "stdout",
     "output_type": "stream",
     "text": [
      "Iter:  7500 Loss:  0.0003698029468645343  lr:  0.00016\n"
     ]
    },
    {
     "name": "stderr",
     "output_type": "stream",
     "text": [
      "100%|████████████████████████████████████| 10000/10000 [00:42<00:00, 232.74it/s]"
     ]
    },
    {
     "name": "stdout",
     "output_type": "stream",
     "text": [
      "MSE Loss:  1.1892242775821578e-06\n",
      "total time:  42.96927881240845\n"
     ]
    },
    {
     "name": "stderr",
     "output_type": "stream",
     "text": [
      "\n"
     ]
    }
   ],
   "source": [
    "steps=10000\n",
    "layers = np.array([1,50,50,50,50,1])\n",
    "Root_NN = NNR(layers)\n",
    "Root_NN.to(device)\n",
    "Root_NN.closure(steps=steps,show=True,lr=0.1)"
   ]
  },
  {
   "cell_type": "code",
   "execution_count": 12,
   "id": "a6af4740",
   "metadata": {},
   "outputs": [
    {
     "name": "stdout",
     "output_type": "stream",
     "text": [
      "tensor([[[6.4695],\n",
      "         [6.5610],\n",
      "         [6.6217],\n",
      "         [6.6674],\n",
      "         [6.7132]]], device='cuda:0', grad_fn=<ViewBackward0>)\n"
     ]
    }
   ],
   "source": [
    "test=np.array([[1.2],[1.8],[2.2],[2.5],[2.8]])[None,:]\n",
    "print(Root_NN(test))"
   ]
  },
  {
   "cell_type": "code",
   "execution_count": null,
   "id": "f1efab9d",
   "metadata": {},
   "outputs": [],
   "source": []
  }
 ],
 "metadata": {
  "kernelspec": {
   "display_name": "Python 3 (ipykernel)",
   "language": "python",
   "name": "python3"
  },
  "language_info": {
   "codemirror_mode": {
    "name": "ipython",
    "version": 3
   },
   "file_extension": ".py",
   "mimetype": "text/x-python",
   "name": "python",
   "nbconvert_exporter": "python",
   "pygments_lexer": "ipython3",
   "version": "3.9.12"
  }
 },
 "nbformat": 4,
 "nbformat_minor": 5
}
